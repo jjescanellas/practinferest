{
 "cells": [
  {
   "cell_type": "markdown",
   "metadata": {},
   "source": [
    "# Notas y ejercicios\n",
    "\n",
    "Esta libreta de ejercicios \"Jupyter\" es un entorno de prácticas en inferencia estadística.\n",
    "\n",
    "Utiliza la extensión de Python para matemáticas \"SageMath\".\n",
    "disponible tanto para los sistemas operativos Windows y Linux. SageMath es un sistema de software de matemáticas libre y de código abierto, bajo licencia GPL. Está construido sobre muchos paquetes disponibles de código abierto como:\n",
    "**NumPy, SciPy, matplotlib, Sympy, Maxima, GAP, FLINT, R, Octave** y muchos más, con Python como lenguaje de programación común.\n",
    "\n",
    "Guías en español para aprender a usar SageMath:\n",
    "\n",
    "1. *Sage para Estudiantes de Pregrado*, Gregory Bard\n",
    "\n",
    "2. https://doc.sagemath.org/html/es/a_tour_of_sage/\n",
    "\n",
    "3. https://doc.sagemath.org/html/es/tutorial/\n",
    "    "
   ]
  },
  {
   "cell_type": "code",
   "execution_count": 1,
   "metadata": {
    "init_cell": true
   },
   "outputs": [],
   "source": [
    "load(\"statinf.sage\")\n",
    "ces = Estadin()"
   ]
  },
  {
   "cell_type": "markdown",
   "metadata": {},
   "source": [
    "La línea anterior importa un módulo que contiene una clase con funciones útiles para los ejercicios. El texto del fuente \"statinf.sage\" es tanto documentación como calculadora gráfica para los ejercicios."
   ]
  },
  {
   "cell_type": "code",
   "execution_count": null,
   "metadata": {},
   "outputs": [],
   "source": []
  },
  {
   "cell_type": "markdown",
   "metadata": {},
   "source": [
    "## Ejemplos de cuantiles y probabilidad acumulada "
   ]
  },
  {
   "cell_type": "code",
   "execution_count": 2,
   "metadata": {},
   "outputs": [
    {
     "name": "stdout",
     "output_type": "stream",
     "text": [
      "0.9772498680518208\n",
      "2.0000024438996027\n"
     ]
    }
   ],
   "source": [
    "# Obtener la probabilidad acumulada para el cuantil 2.0\n",
    "# Usar la clase 'Estadin'\n",
    "print(ces.pnorm(2.0))\n",
    "print(ces.qnorm(0.97725))"
   ]
  },
  {
   "cell_type": "markdown",
   "metadata": {},
   "source": [
    "### Comandos de R\n",
    "\n",
    "Es posible ejecutar líneas para el intérprete R desde sage,\n",
    "con el prefijo %r al principio de la línea, o como métodos tipo r.pnorm:"
   ]
  },
  {
   "cell_type": "code",
   "execution_count": 3,
   "metadata": {},
   "outputs": [
    {
     "name": "stdout",
     "output_type": "stream",
     "text": [
      "[1] 0.9772499\n",
      "[1] 2.000002\n"
     ]
    }
   ],
   "source": [
    "# Usar R\n",
    "print(r.pnorm(2.0, 0, 1))\n",
    "print(r.qnorm(0.97725,0,1))"
   ]
  },
  {
   "cell_type": "code",
   "execution_count": 4,
   "metadata": {},
   "outputs": [
    {
     "name": "stdout",
     "output_type": "stream",
     "text": [
      "[1]\n",
      " 0.9331928\n",
      "\n",
      "\n"
     ]
    },
    {
     "data": {
      "text/plain": [
       "[1] 1.5"
      ]
     },
     "execution_count": 4,
     "metadata": {},
     "output_type": "execute_result"
    }
   ],
   "source": [
    "%r print(pnorm(1.5,0,1))\n",
    "%r qnorm(0.9331928,0,1)"
   ]
  },
  {
   "cell_type": "code",
   "execution_count": 5,
   "metadata": {},
   "outputs": [
    {
     "name": "stdout",
     "output_type": "stream",
     "text": [
      "[1] 0.9772499 [1] 0.9419417 [1] 2.000879\n",
      "[1]\n",
      " 1\n",
      " 2\n",
      " 3\n",
      " 4\n",
      " 5\n",
      "\n",
      "\n"
     ]
    },
    {
     "data": {
      "text/plain": [
       "[1] 1 2 3 4 5"
      ]
     },
     "execution_count": 5,
     "metadata": {},
     "output_type": "execute_result"
    }
   ],
   "source": [
    "pn01 = r.pnorm(2,0,1)\n",
    "pt01 = r.pt(2,df=4)\n",
    "qt01 = r.qt(0.942,df=4)\n",
    "print(pn01, pt01, qt01)\n",
    "%r xv <- c(1,2,3,4)\n",
    "%r xv <- c(xv,5)\n",
    "%r print(xv)\n"
   ]
  },
  {
   "cell_type": "code",
   "execution_count": 6,
   "metadata": {},
   "outputs": [
    {
     "name": "stdout",
     "output_type": "stream",
     "text": [
      "The zero occurs at\n",
      " \n",
      "6.283185\n",
      " \n",
      "radians.\n",
      " \n",
      "\n",
      "\n"
     ]
    },
    {
     "data": {
      "text/plain": [
       "NULL"
      ]
     },
     "execution_count": 6,
     "metadata": {},
     "output_type": "execute_result"
    }
   ],
   "source": [
    "%r cat(\"The zero occurs at\", 2*pi, \"radians.\", \"\\n\")"
   ]
  },
  {
   "cell_type": "code",
   "execution_count": 7,
   "metadata": {},
   "outputs": [
    {
     "name": "stdout",
     "output_type": "stream",
     "text": [
      "[1]\n",
      " 1.414214\n",
      "\n",
      "\n",
      "[1]\n",
      " 1.732051\n",
      "\n",
      "\n",
      "[1]\n",
      " 2\n",
      "\n",
      "\n"
     ]
    },
    {
     "data": {
      "text/plain": [
       "NULL"
      ]
     },
     "execution_count": 7,
     "metadata": {},
     "output_type": "execute_result"
    }
   ],
   "source": [
    "%r for (x in c(2:4)) print(sqrt(x))"
   ]
  },
  {
   "cell_type": "code",
   "execution_count": 8,
   "metadata": {},
   "outputs": [
    {
     "data": {
      "text/plain": [
       "     C.1 C.2 C.3\n",
       "row1   1   2   3\n",
       "row2  11  12  13"
      ]
     },
     "execution_count": 8,
     "metadata": {},
     "output_type": "execute_result"
    }
   ],
   "source": [
    "%r miabs <- function(n) { if (n > 0) {x <- n} else {x <- -n}}\n",
    "%r miabs(-27)\n",
    "\n",
    "%r rep(\"A\", 10)\n",
    "\n",
    "%r matrix(c(1,2,3,11,12,13), nrow=2, ncol=3, byrow=TRUE)\n",
    "\n",
    "%r matrix(c(1,2,3,11,12,13), nrow=2, ncol=3, byrow=TRUE, dimnames=list(c(\"row1\", \"row2\"), c(\"C.1\", \"C.2\", \"C.3\")))\n",
    "\n",
    "\n",
    "%r A <- matrix(c(1,2,3,11,12,13), nrow=2, ncol=3, byrow=TRUE)\n",
    "%r rownames(A) <- c(\"row1\",\"row2\")\n",
    "%r colnames(A) <- c(\"C.1\", \"C.2\", \"C.3\")\n",
    "%r A"
   ]
  },
  {
   "cell_type": "code",
   "execution_count": 9,
   "metadata": {},
   "outputs": [
    {
     "name": "stdout",
     "output_type": "stream",
     "text": [
      "[1]\n",
      " 0\n",
      "\n",
      "\n",
      "[1]\n",
      " 1\n",
      "\n",
      "\n",
      "[1]\n",
      " 1\n",
      "\n",
      "\n",
      "[1]\n",
      " 2\n",
      "\n",
      "\n",
      "[1]\n",
      " 3\n",
      "\n",
      "\n",
      "[1]\n",
      " 5\n",
      "\n",
      "\n",
      "[1]\n",
      " 8\n",
      "\n",
      "\n"
     ]
    },
    {
     "ename": "NameError",
     "evalue": "name '_sage_' is not defined",
     "output_type": "error",
     "traceback": [
      "\u001b[0;31m---------------------------------------------------------------------------\u001b[0m",
      "\u001b[0;31mNameError\u001b[0m                                 Traceback (most recent call last)",
      "\u001b[0;32m<ipython-input-9-e1c3449269d4>\u001b[0m in \u001b[0;36m<module>\u001b[0;34m()\u001b[0m\n\u001b[1;32m      5\u001b[0m \u001b[0mget_ipython\u001b[0m\u001b[0;34m(\u001b[0m\u001b[0;34m)\u001b[0m\u001b[0;34m.\u001b[0m\u001b[0mmagic\u001b[0m\u001b[0;34m(\u001b[0m\u001b[0;34m'r while (b < 10) { print(b); temp <- a + b; a <- b; b <- temp;}'\u001b[0m\u001b[0;34m)\u001b[0m\u001b[0;34m\u001b[0m\u001b[0;34m\u001b[0m\u001b[0m\n\u001b[1;32m      6\u001b[0m \u001b[0mget_ipython\u001b[0m\u001b[0;34m(\u001b[0m\u001b[0;34m)\u001b[0m\u001b[0;34m.\u001b[0m\u001b[0mmagic\u001b[0m\u001b[0;34m(\u001b[0m\u001b[0;34m'r while (b < 10) { x <- c(x,b); temp <- a + b; a <- b; b <- temp;}'\u001b[0m\u001b[0;34m)\u001b[0m\u001b[0;34m\u001b[0m\u001b[0;34m\u001b[0m\u001b[0m\n\u001b[0;32m----> 7\u001b[0;31m \u001b[0mprint\u001b[0m\u001b[0;34m(\u001b[0m\u001b[0m_sage_\u001b[0m\u001b[0;34m(\u001b[0m\u001b[0mx\u001b[0m\u001b[0;34m)\u001b[0m\u001b[0;34m)\u001b[0m\u001b[0;34m\u001b[0m\u001b[0;34m\u001b[0m\u001b[0m\n\u001b[0m",
      "\u001b[0;31mNameError\u001b[0m: name '_sage_' is not defined"
     ]
    }
   ],
   "source": [
    "%r a <- 0\n",
    "%r b <- 1\n",
    "%r x <- c()\n",
    "%r print(a)\n",
    "%r while (b < 10) { print(b); temp <- a + b; a <- b; b <- temp;}\n",
    "%r while (b < 10) { x <- c(x,b); temp <- a + b; a <- b; b <- temp;}\n",
    "print(_sage_(x))"
   ]
  },
  {
   "cell_type": "code",
   "execution_count": 10,
   "metadata": {},
   "outputs": [
    {
     "data": {
      "text/plain": [
       "[1]  0  1  1  2  3  5  8 13 21"
      ]
     },
     "execution_count": 10,
     "metadata": {},
     "output_type": "execute_result"
    }
   ],
   "source": [
    "%r Fibonacci <- function(n) { x <- c(0,1); while (length(x) < n) { position <- length(x); new <- x[position] + x[position-1]; x <- c(x,new) }; return(x) }\n",
    "%r Fibonacci(9)"
   ]
  },
  {
   "cell_type": "code",
   "execution_count": 11,
   "metadata": {
    "scrolled": true
   },
   "outputs": [
    {
     "name": "stdout",
     "output_type": "stream",
     "text": [
      "Help on function sqrt in module sage.functions.other:\n",
      "\n",
      "sqrt(x, *args, **kwds)\n",
      "    INPUT:\n",
      "    \n",
      "    -  ``x`` - a number\n",
      "    \n",
      "    -  ``prec`` - integer (default: None): if None, returns\n",
      "       an exact square root; otherwise returns a numerical square root if\n",
      "       necessary, to the given bits of precision.\n",
      "    \n",
      "    -  ``extend`` - bool (default: True); this is a place\n",
      "       holder, and is always ignored or passed to the sqrt function for x,\n",
      "       since in the symbolic ring everything has a square root.\n",
      "    \n",
      "    -  ``all`` - bool (default: False); if True, return all\n",
      "       square roots of self, instead of just one.\n",
      "    \n",
      "    EXAMPLES::\n",
      "    \n",
      "        sage: sqrt(-1)\n",
      "        I\n",
      "        sage: sqrt(2)\n",
      "        sqrt(2)\n",
      "        sage: sqrt(2)^2\n",
      "        2\n",
      "        sage: sqrt(4)\n",
      "        2\n",
      "        sage: sqrt(4,all=True)\n",
      "        [2, -2]\n",
      "        sage: sqrt(x^2)\n",
      "        sqrt(x^2)\n",
      "    \n",
      "    For a non-symbolic square root, there are a few options.\n",
      "    The best is to numerically approximate afterward::\n",
      "    \n",
      "        sage: sqrt(2).n()\n",
      "        1.41421356237310\n",
      "        sage: sqrt(2).n(prec=100)\n",
      "        1.4142135623730950488016887242\n",
      "    \n",
      "    Or one can input a numerical type.\n",
      "    \n",
      "        sage: sqrt(2.)\n",
      "        1.41421356237310\n",
      "        sage: sqrt(2.000000000000000000000000)\n",
      "        1.41421356237309504880169\n",
      "        sage: sqrt(4.0)\n",
      "        2.00000000000000\n",
      "    \n",
      "    To prevent automatic evaluation, one can use the ``hold`` parameter\n",
      "    after coercing to the symbolic ring::\n",
      "    \n",
      "        sage: sqrt(SR(4),hold=True)\n",
      "        sqrt(4)\n",
      "        sage: sqrt(4,hold=True)\n",
      "        Traceback (most recent call last):\n",
      "        ...\n",
      "        TypeError: _do_sqrt() got an unexpected keyword argument 'hold'\n",
      "    \n",
      "    This illustrates that the bug reported in :trac:`6171` has been fixed::\n",
      "    \n",
      "        sage: a = 1.1\n",
      "        sage: a.sqrt(prec=100)  # this is supposed to fail\n",
      "        Traceback (most recent call last):\n",
      "        ...\n",
      "        TypeError: sqrt() got an unexpected keyword argument 'prec'\n",
      "        sage: sqrt(a, prec=100)\n",
      "        1.0488088481701515469914535137\n",
      "        sage: sqrt(4.00, prec=250)\n",
      "        2.0000000000000000000000000000000000000000000000000000000000000000000000000\n",
      "    \n",
      "    One can use numpy input as well::\n",
      "    \n",
      "        sage: import numpy\n",
      "        sage: a = numpy.arange(2,5)\n",
      "        sage: sqrt(a)\n",
      "        array([1.41421356, 1.73205081, 2.        ])\n",
      "\n"
     ]
    }
   ],
   "source": [
    "# Ayuda\n",
    "help(sqrt)"
   ]
  },
  {
   "cell_type": "code",
   "execution_count": 12,
   "metadata": {
    "scrolled": true
   },
   "outputs": [
    {
     "name": "stdout",
     "output_type": "stream",
     "text": [
      "0.9772498680518208\n",
      "2.0000024438996027\n"
     ]
    },
    {
     "data": {
      "image/png": "[encoded data removed]",
      "text/plain": [
       "Graphics object consisting of 1 graphics primitive"
      ]
     },
     "execution_count": 12,
     "metadata": {},
     "output_type": "execute_result"
    }
   ],
   "source": [
    "# Usar sage directamente\n",
    "N = RealDistribution('gaussian', 1)\n",
    "print(N.cum_distribution_function(2))\n",
    "print(N.cum_distribution_function_inv(0.97725))\n",
    "N.plot(xmin=-4, xmax=4)"
   ]
  },
  {
   "cell_type": "markdown",
   "metadata": {},
   "source": [
    "### Función distribución normal con centro distinto de cero"
   ]
  },
  {
   "cell_type": "code",
   "execution_count": 13,
   "metadata": {
    "scrolled": true
   },
   "outputs": [
    {
     "data": {
      "image/png": "[encoded data removed]",
      "text/plain": [
       "Graphics object consisting of 1 graphics primitive"
      ]
     },
     "metadata": {},
     "output_type": "display_data"
    }
   ],
   "source": [
    "def gen_nd(mu,sigma):\n",
    "    N = RealDistribution('gaussian', sigma)\n",
    "    f = lambda x:N.distribution_function(x-mu)\n",
    "    return f\n",
    "f2 = gen_nd(1, 1)\n",
    "shndmu = plot(f2, (x,-3,5))\n",
    "show(shndmu)"
   ]
  },
  {
   "cell_type": "code",
   "execution_count": null,
   "metadata": {},
   "outputs": [],
   "source": []
  },
  {
   "cell_type": "markdown",
   "metadata": {},
   "source": [
    "## Ejemplos de confianza, cuantiles y gráficas"
   ]
  },
  {
   "cell_type": "code",
   "execution_count": 14,
   "metadata": {},
   "outputs": [
    {
     "data": {
      "text/plain": [
       "[1] 3.290527"
      ]
     },
     "execution_count": 14,
     "metadata": {},
     "output_type": "execute_result"
    }
   ],
   "source": [
    "a=0.999\n",
    "p = (a+1)/2\n",
    "z = r.qnorm(p, 0, 1)\n",
    "z"
   ]
  },
  {
   "cell_type": "code",
   "execution_count": null,
   "metadata": {},
   "outputs": [],
   "source": []
  },
  {
   "cell_type": "code",
   "execution_count": 15,
   "metadata": {},
   "outputs": [
    {
     "data": {
      "text/plain": [
       "   Min. 1st Qu.  Median    Mean 3rd Qu.    Max. \n",
       "  1.000   1.750   3.000   2.875   4.000   5.000"
      ]
     },
     "execution_count": 15,
     "metadata": {},
     "output_type": "execute_result"
    }
   ],
   "source": [
    "rs = r.summary(r.c(1,4,3,4,3,2,5,1))\n",
    "rs"
   ]
  },
  {
   "cell_type": "code",
   "execution_count": 16,
   "metadata": {},
   "outputs": [
    {
     "name": "stdout",
     "output_type": "stream",
     "text": [
      "0.97725\n"
     ]
    },
    {
     "data": {
      "image/png": "[encoded data removed]",
      "text/plain": [
       "Graphics object consisting of 2 graphics primitives"
      ]
     },
     "execution_count": 16,
     "metadata": {},
     "output_type": "execute_result"
    }
   ],
   "source": [
    "z = 2\n",
    "p = ces.pnorm(z)\n",
    "print(p.n(digits=5))\n",
    "ces.dibujar_densidad(zi=-4,zf=z, rgbcolor='blue')"
   ]
  },
  {
   "cell_type": "markdown",
   "metadata": {},
   "source": [
    "Como el total del área debe ser la probabilidad 1, el área después del cuantil es:\n",
    "(1 - el área anterior a este)."
   ]
  },
  {
   "cell_type": "code",
   "execution_count": 17,
   "metadata": {},
   "outputs": [
    {
     "name": "stdout",
     "output_type": "stream",
     "text": [
      "0.465\n"
     ]
    },
    {
     "data": {
      "image/png": "[encoded data removed]",
      "text/plain": [
       "Graphics object consisting of 2 graphics primitives"
      ]
     },
     "execution_count": 17,
     "metadata": {},
     "output_type": "execute_result"
    }
   ],
   "source": [
    "z1, z2 = -0.5, 0.75\n",
    "p3 = ces.pnorm(z2) - ces.pnorm(z1)\n",
    "print(p3.n(digits=3))\n",
    "fcolor = 'green'\n",
    "ces.dibujar_densidad(r=4,zi=z1,zf= z2, rgbcolor=fcolor)"
   ]
  },
  {
   "cell_type": "code",
   "execution_count": 18,
   "metadata": {},
   "outputs": [
    {
     "name": "stdout",
     "output_type": "stream",
     "text": [
      "0.625\n"
     ]
    }
   ],
   "source": [
    "z1, z2 = -0.5, 1.5\n",
    "p3 = ces.pnorm(z2) - ces.pnorm(z1)\n",
    "print(p3.n(digits=3))\n",
    "fcolor = 'red'\n",
    "plot3 = ces.dibujar_densidad(r=4,zi=z1,zf= z2, rgbcolor=fcolor)"
   ]
  },
  {
   "cell_type": "code",
   "execution_count": 19,
   "metadata": {},
   "outputs": [
    {
     "name": "stdout",
     "output_type": "stream",
     "text": [
      "0.191\n"
     ]
    }
   ],
   "source": [
    "z1, z2 = -0.5, 0\n",
    "p1 = ces.pnorm(z2) - ces.pnorm(z1)\n",
    "print(p1.n(digits=3))\n",
    "plot1 = ces.dibujar_densidad(r=4,zi=z1,zf= z2, rgbcolor=fcolor)"
   ]
  },
  {
   "cell_type": "code",
   "execution_count": 20,
   "metadata": {},
   "outputs": [
    {
     "name": "stdout",
     "output_type": "stream",
     "text": [
      "0.433\n"
     ]
    }
   ],
   "source": [
    "z1, z2 = 0, 1.5\n",
    "p2 = ces.pnorm(z2) - ces.pnorm(z1)\n",
    "print(p2.n(digits=3))\n",
    "plot2 = ces.dibujar_densidad(r=4,zi=z1,zf= z2, rgbcolor=fcolor)"
   ]
  },
  {
   "cell_type": "code",
   "execution_count": 21,
   "metadata": {},
   "outputs": [
    {
     "data": {
      "image/png": "[encoded data removed]",
      "text/plain": [
       "Graphics object consisting of 2 graphics primitives"
      ]
     },
     "metadata": {},
     "output_type": "display_data"
    },
    {
     "name": "stdout",
     "output_type": "stream",
     "text": [
      "0.191\n"
     ]
    },
    {
     "data": {
      "image/png": "[encoded data removed]",
      "text/plain": [
       "Graphics object consisting of 2 graphics primitives"
      ]
     },
     "metadata": {},
     "output_type": "display_data"
    },
    {
     "name": "stdout",
     "output_type": "stream",
     "text": [
      "0.433\n"
     ]
    },
    {
     "data": {
      "image/png": "[encoded data removed]",
      "text/plain": [
       "Graphics object consisting of 2 graphics primitives"
      ]
     },
     "metadata": {},
     "output_type": "display_data"
    },
    {
     "name": "stdout",
     "output_type": "stream",
     "text": [
      "0.625\n"
     ]
    }
   ],
   "source": [
    "show(plot1)\n",
    "print(p1.n(digits=3))\n",
    "show(plot2)\n",
    "print(p2.n(digits=3))\n",
    "show(plot3)\n",
    "print(p3.n(digits=3))"
   ]
  },
  {
   "cell_type": "markdown",
   "metadata": {},
   "source": [
    "El área sobre el intervalo, es la diferencia del área del cuantil mayor menos el área del cuantil menor. "
   ]
  },
  {
   "cell_type": "code",
   "execution_count": 22,
   "metadata": {
    "scrolled": true
   },
   "outputs": [
    {
     "name": "stdout",
     "output_type": "stream",
     "text": [
      "0.890\n"
     ]
    },
    {
     "data": {
      "image/png": "[encoded data removed]",
      "text/plain": [
       "Graphics object consisting of 2 graphics primitives"
      ]
     },
     "execution_count": 22,
     "metadata": {},
     "output_type": "execute_result"
    }
   ],
   "source": [
    "z1, z2 = -1.6, 1.6\n",
    "p = ces.pnorm(z2) - ces.pnorm(z1)\n",
    "print(p.n(digits=3))\n",
    "ces.dibujar_densidad(r=4,zi=z1,zf=z2, rgbcolor='green')"
   ]
  },
  {
   "cell_type": "code",
   "execution_count": 23,
   "metadata": {},
   "outputs": [
    {
     "name": "stdout",
     "output_type": "stream",
     "text": [
      "0.110\n"
     ]
    },
    {
     "data": {
      "image/png": "[encoded data removed]",
      "text/plain": [
       "Graphics object consisting of 3 graphics primitives"
      ]
     },
     "execution_count": 23,
     "metadata": {},
     "output_type": "execute_result"
    }
   ],
   "source": [
    "z1, z2 = -1.6, 1.6\n",
    "p = 1 - (ces.pnorm(z2) - ces.pnorm(z1))\n",
    "print(p.n(digits=3))\n",
    "ces.dibujar_densidad(r=4,zi=z1,zf=z2, rgbcolor='green',complemento=True)"
   ]
  },
  {
   "cell_type": "code",
   "execution_count": 24,
   "metadata": {},
   "outputs": [
    {
     "name": "stdout",
     "output_type": "stream",
     "text": [
      "0.0548\n"
     ]
    },
    {
     "data": {
      "image/png": "[encoded data removed]",
      "text/plain": [
       "Graphics object consisting of 2 graphics primitives"
      ]
     },
     "execution_count": 24,
     "metadata": {},
     "output_type": "execute_result"
    }
   ],
   "source": [
    "z1 = 1.6\n",
    "p = 1 - ces.pnorm(z1)\n",
    "print(p.n(digits=3))\n",
    "ces.dibujar_densidad(r=4,zi=z1,zf=4, rgbcolor='green')"
   ]
  },
  {
   "cell_type": "markdown",
   "metadata": {},
   "source": [
    "Si el intervalo es simétrico, el área anterior al cuantil menor es igual al área posterior al cuantil mayor. \n",
    "\n",
    "Y también debido a la simetría, el área anterior a $0$ es $1/2$.\n",
    "\n",
    "Si llamamos confianza a la probabilidad sobre el intervalo, y radio de confianza a su cuantil superior:\n",
    "\n",
    "1. El área anterior al cuantil superior (radio del intervalo de confianza), es $1/2$.\n",
    "\n",
    "2.  El área anterior al cuantil superior es $1/2$ más la mitad de la confianza.\n",
    "\n",
    "Entonces, dada la confianza, el radio de confianza se obtiene como el cuantil de $1/2$ más la mitad del valor de la confianza.\n"
   ]
  },
  {
   "cell_type": "code",
   "execution_count": 25,
   "metadata": {},
   "outputs": [
    {
     "data": {
      "image/png": "[encoded data removed]",
      "text/plain": [
       "Graphics object consisting of 2 graphics primitives"
      ]
     },
     "execution_count": 25,
     "metadata": {},
     "output_type": "execute_result"
    }
   ],
   "source": [
    "ces.dibujar_densidad(r=4,zi=-4,zf=-1.6, rgbcolor='green')"
   ]
  },
  {
   "cell_type": "code",
   "execution_count": 26,
   "metadata": {
    "scrolled": true
   },
   "outputs": [
    {
     "data": {
      "image/png": "[encoded data removed]",
      "text/plain": [
       "Graphics object consisting of 2 graphics primitives"
      ]
     },
     "execution_count": 26,
     "metadata": {},
     "output_type": "execute_result"
    }
   ],
   "source": [
    "ces.dibujar_densidad(r=4,zi=1.6,zf=4, rgbcolor='green')"
   ]
  },
  {
   "cell_type": "code",
   "execution_count": 27,
   "metadata": {},
   "outputs": [
    {
     "name": "stdout",
     "output_type": "stream",
     "text": [
      "probabilidad: 0.050\n",
      "probabilidad: 0.500\n",
      "probabilidad: 0.950\n"
     ]
    }
   ],
   "source": [
    "lista_de_probabilidades_acumuladas = [0.05, 0.5, 0.95]\n",
    "for p in lista_de_probabilidades_acumuladas:\n",
    "    mostrar_decimal(p, 'probabilidad: ')"
   ]
  },
  {
   "cell_type": "code",
   "execution_count": 28,
   "metadata": {},
   "outputs": [
    {
     "name": "stdout",
     "output_type": "stream",
     "text": [
      "cuantil: -1.645\n",
      "cuantil: 0.000\n",
      "cuantil: 1.645\n"
     ]
    }
   ],
   "source": [
    "lista_de_cuantiles = [ces.qnorm(p) \n",
    "for p in lista_de_probabilidades_acumuladas]\n",
    "\n",
    "for z in lista_de_cuantiles:\n",
    "    mostrar_decimal(z, 'cuantil: ')"
   ]
  },
  {
   "cell_type": "code",
   "execution_count": 29,
   "metadata": {},
   "outputs": [
    {
     "name": "stdout",
     "output_type": "stream",
     "text": [
      "1.64485362695147\n"
     ]
    },
    {
     "data": {
      "image/png": "[encoded data removed]",
      "text/plain": [
       "Graphics object consisting of 2 graphics primitives"
      ]
     },
     "execution_count": 29,
     "metadata": {},
     "output_type": "execute_result"
    }
   ],
   "source": [
    "confianza = 0.9\n",
    "p = (confianza + 1)/2\n",
    "z = ces.qnorm(p)\n",
    "print(z.n())\n",
    "ces.dibujar_densidad(r=4,zi=-z, zf=z, rgbcolor='blue')"
   ]
  },
  {
   "cell_type": "code",
   "execution_count": 30,
   "metadata": {},
   "outputs": [
    {
     "data": {
      "text/plain": [
       "0.050000374069078535"
      ]
     },
     "execution_count": 30,
     "metadata": {},
     "output_type": "execute_result"
    }
   ],
   "source": [
    "1 - ces.pnorm(1.64485)"
   ]
  },
  {
   "cell_type": "markdown",
   "metadata": {},
   "source": [
    "## 2.1.1. Intervalo de confianza para una proporción\n",
    "\n",
    "De una población cuya proporción de \"éxitos\" $p$ es desconocida,\n",
    " extraemos una muestra aleatoria de tamaño $n$. Queremos determinar un intervalo de radio $c$ que contenga $p$ con confianza $a$.\n",
    "\n",
    "Calcular la proporción de éxitos de la muestra, donde cada $X_i \\sim B(p)$, o sea toman valor 1 con probabilidad $p$, según una distribución Bernoulli. La proporción de éxitos es:\n",
    "\n",
    "\\begin{equation*}\n",
    " \\hat{p} = \\frac{X_1 + X_2 +\\ldots+ X_n}{n}.\n",
    "\\end{equation*}\n",
    "\n",
    "Para estimar la desviación estándar de éxitos de la muestra, para la distribución Bernoulli, conocido el valor estimado de la proporción de la muestra: $\\hat{p}$, obtenemos el valor estimado de la varianza de la $\\hat{\\sigma^2} = \\hat{p}(1-\\hat{p})$.\n",
    "\n",
    "La desviación estándar de la proporción de la muestra es:\n",
    "\n",
    "\\begin{equation*}\n",
    "\\tilde{\\sigma} = \\sqrt{\\frac{\\hat{p}(1-\\hat{p})}{n}}.\n",
    "\\end{equation*}\n",
    "\n",
    "$a = \\mathbb{P}(-z_a < Z <= z_a) = 2 N(z_a) - 1$"
   ]
  },
  {
   "cell_type": "code",
   "execution_count": 31,
   "metadata": {},
   "outputs": [
    {
     "data": {
      "image/png": "[encoded data removed]",
      "text/plain": [
       "Graphics object consisting of 2 graphics primitives"
      ]
     },
     "execution_count": 31,
     "metadata": {},
     "output_type": "execute_result"
    }
   ],
   "source": [
    "z_a = 1.9\n",
    "ces.dibujar_densidad(r=4,zi=-z_a,zf= z_a, rgbcolor='blue')"
   ]
  },
  {
   "cell_type": "markdown",
   "metadata": {},
   "source": [
    "\\begin{align*}\n",
    "    a &= N(z_a) - N(-z_a)\\\\\n",
    "    1 &= N(z_a) + N(-z_a),\n",
    "\\end{align*}\n",
    "\n",
    "entonces:\n",
    "\n",
    "\\begin{align*}\n",
    "    N(z_a) &= \\frac{a+1}{2}\\\\\n",
    "    N(-z_a) &= \\frac{1-a}{2}.\n",
    "\\end{align*}\n",
    "\n",
    "\\begin{equation*}\n",
    "Z = \\frac{X-p}{\\tilde{\\sigma}},\n",
    "\\end{equation*}\n",
    "\n",
    "\\begin{equation*}\n",
    "p - z_a \\tilde{\\sigma} < X <= p + z_a \\tilde{\\sigma}\n",
    "\\end{equation*},\n",
    "\n",
    "\\begin{equation*}\n",
    "c = z_a * \\tilde{\\sigma}\n",
    "\\end{equation*},\n",
    "\n",
    "y el intervalo de confianza:\n",
    "\n",
    "\\begin{equation*}\n",
    "(\\hat{p} - c, \\hat{p} + c).\n",
    "\\end{equation*}\n",
    "\n",
    "\n",
    "\n",
    "\n",
    "\n",
    "\n",
    "### Ejemplo 2.1.1.\n",
    "\n",
    "En una encuesta realizada a $100$ votantes seleccionados aleatoriamente, $35$ apoyan la iniciativa A. Estimar la proporción de apoyo a la iniciativa A para la población y el intervalo de confianza para $a = 0.95$.\n",
    "\n",
    "Debido a la simetría, a partir de la confianza podemos estimar cualquiera de los cuantiles normales, como se muestra en la figuras.\n",
    "\n",
    "Una vez conocidos los cuantiles, el radio del intervalo es $z \\tilde{\\sigma}$."
   ]
  },
  {
   "cell_type": "code",
   "execution_count": 32,
   "metadata": {},
   "outputs": [
    {
     "name": "stdout",
     "output_type": "stream",
     "text": [
      "prop = 0.350\n",
      "confianza = 0.950\n",
      "s = 0.048\n",
      "z2 = 1.960\n"
     ]
    }
   ],
   "source": [
    "n = 100\n",
    "prop = 35/100\n",
    "mostrar_decimal(prop, 'prop = ')\n",
    "confianza = 0.95\n",
    "mostrar_decimal(confianza, 'confianza = ')\n",
    "s = sqrt(prop*(1-prop)/n)\n",
    "mostrar_decimal(s, 's = ')\n",
    "z2 = ces.qnorm((confianza+1)/2)\n",
    "mostrar_decimal(z2, 'z2 = ')"
   ]
  },
  {
   "cell_type": "code",
   "execution_count": 33,
   "metadata": {},
   "outputs": [
    {
     "name": "stdout",
     "output_type": "stream",
     "text": [
      "z1 = -1.960\n"
     ]
    }
   ],
   "source": [
    "z1 = ces.qnorm((1-confianza)/2)\n",
    "mostrar_decimal(z1, 'z1 = ')"
   ]
  },
  {
   "cell_type": "code",
   "execution_count": 34,
   "metadata": {},
   "outputs": [
    {
     "name": "stdout",
     "output_type": "stream",
     "text": [
      "0.0250\n"
     ]
    },
    {
     "data": {
      "image/png": "[encoded data removed]",
      "text/plain": [
       "Graphics object consisting of 2 graphics primitives"
      ]
     },
     "execution_count": 34,
     "metadata": {},
     "output_type": "execute_result"
    }
   ],
   "source": [
    "z1 = -1.96\n",
    "p = ces.pnorm(z1)\n",
    "print(p.n(digits=3))\n",
    "ces.dibujar_densidad(r=4, zi=-4,zf=z1, rgbcolor='green',complemento=False)"
   ]
  },
  {
   "cell_type": "code",
   "execution_count": 35,
   "metadata": {},
   "outputs": [
    {
     "name": "stdout",
     "output_type": "stream",
     "text": [
      "0.975\n"
     ]
    },
    {
     "data": {
      "image/png": "[encoded data removed]",
      "text/plain": [
       "Graphics object consisting of 2 graphics primitives"
      ]
     },
     "execution_count": 35,
     "metadata": {},
     "output_type": "execute_result"
    }
   ],
   "source": [
    "z2 = 1.96\n",
    "p = ces.pnorm(z2)\n",
    "print(p.n(digits=3))\n",
    "ces.dibujar_densidad(r=4,zi=-4,zf=z2, rgbcolor='green',complemento=False)"
   ]
  },
  {
   "cell_type": "code",
   "execution_count": null,
   "metadata": {
    "scrolled": true
   },
   "outputs": [],
   "source": [
    "c = z*s\n",
    "mostrar_decimal(c, 'c = ')\n",
    "inf_ic = prop-c\n",
    "sup_ic = prop+c\n",
    "mostrar_decimal(inf_ic,'inf_ic = ', '{:3.2f}')\n",
    "mostrar_decimal(sup_ic,'sup_ic = ', '{:3.2f}')"
   ]
  },
  {
   "cell_type": "code",
   "execution_count": null,
   "metadata": {},
   "outputs": [],
   "source": [
    "ces.obtener_ic_proporción(tam=100,confianza=0.95,prop=35/100)"
   ]
  },
  {
   "cell_type": "code",
   "execution_count": null,
   "metadata": {},
   "outputs": [],
   "source": []
  },
  {
   "cell_type": "code",
   "execution_count": null,
   "metadata": {},
   "outputs": [],
   "source": [
    "Pc = 0.9\n",
    "zi = ces.qnorm((1-Pc)/2);zi"
   ]
  },
  {
   "cell_type": "markdown",
   "metadata": {},
   "source": [
    "### Ejemplo 2.1.2.\n",
    "\n",
    "Encontrar el intervalo de confianza para $0.99$."
   ]
  },
  {
   "cell_type": "code",
   "execution_count": null,
   "metadata": {},
   "outputs": [],
   "source": [
    "n = 100\n",
    "prop = 35/100\n",
    "s = sqrt(prop*(1-prop)/n)\n",
    "mostrar_decimal(s, 's = ')\n",
    "\n",
    "confianza = 0.99\n",
    "mostrar_decimal(confianza, 'confianza = ')\n",
    "\n",
    "z1 = ces.qnorm((1-confianza)/2)\n",
    "mostrar_decimal(z1, 'z1 = ')\n",
    "\n",
    "z2 = ces.qnorm((confianza+1)/2)\n",
    "mostrar_decimal(z2, 'z2 = ')\n",
    "\n",
    "z = z2\n",
    "mostrar_decimal(z, 'z = -z1 = z2 = ')"
   ]
  },
  {
   "cell_type": "code",
   "execution_count": null,
   "metadata": {},
   "outputs": [],
   "source": [
    "ces.dibujar_densidad(r=4, zi=-4,zf=z1, rgbcolor='green',complemento=False)"
   ]
  },
  {
   "cell_type": "code",
   "execution_count": null,
   "metadata": {},
   "outputs": [],
   "source": [
    "ces.dibujar_densidad(r=4, zi=-4,zf=z2, rgbcolor='green',complemento=False)"
   ]
  },
  {
   "cell_type": "code",
   "execution_count": null,
   "metadata": {},
   "outputs": [],
   "source": [
    "r = z*s\n",
    "mostrar_decimal(r, 'radio del intervalo de confianza = ')"
   ]
  },
  {
   "cell_type": "code",
   "execution_count": null,
   "metadata": {},
   "outputs": [],
   "source": [
    "((prop-r).n(digits=2), (prop+r).n(digits=2))"
   ]
  },
  {
   "cell_type": "code",
   "execution_count": null,
   "metadata": {
    "scrolled": true
   },
   "outputs": [],
   "source": [
    "ces.obtener_ic_proporción(tam=100,confianza=0.99,prop=35/100)"
   ]
  },
  {
   "cell_type": "markdown",
   "metadata": {},
   "source": [
    "### Ejemplo 2.1.3. Obtener el tamaño de una muestra para la para una proporción.\n",
    "\n",
    "Dados el radio del intervalo de confianza $c$ y la confianza, puede obtenerse $z$, para una proporción $p$ de la población se cumple:\n",
    "\n",
    "\\begin{equation*}\n",
    "\\frac{c^2}{z^2} = \\frac{p (1 - p)}{n},\n",
    "\\end{equation*}\n",
    "\n",
    "y resulta:\n",
    "\\begin{equation*}\n",
    "n = \\frac{p (1 - p)}{\\frac{c^2}{z^2}}.\n",
    "\\end{equation*}\n",
    "\n",
    "Como la proporción de la población un promedio está siempre entre cero y uno, $p (1 - p) \\le 1/4$.\n",
    "\n",
    "Por lo tanto,\n",
    "\\begin{equation*}\n",
    "n \\le \\frac{z^2}{4 c^2},\n",
    "\\end{equation*}\n",
    "\n",
    "tendremos un tamaño de la muestra adecuado para cualquier valor posible de la proporción real de la población.\n",
    "\n",
    "A continuación, calculamos el tamaño de muestra para estimar la proporción\n",
    "de una población con precisión $0.01$ y confianza $0.95$.\n"
   ]
  },
  {
   "cell_type": "code",
   "execution_count": null,
   "metadata": {},
   "outputs": [],
   "source": [
    "z = ces.qnorm(1.95/2)\n",
    "c = 0.01\n",
    "n = z^2/(4 * c^2)\n",
    "n.ceil()"
   ]
  },
  {
   "cell_type": "code",
   "execution_count": null,
   "metadata": {},
   "outputs": [],
   "source": [
    "ces.obtener_tamaño_muestra_proporción(radio_ic=0.01, confianza=0.95)"
   ]
  },
  {
   "cell_type": "markdown",
   "metadata": {},
   "source": [
    "## 2.1.2 Intervalo de confianza para un promedio"
   ]
  },
  {
   "cell_type": "code",
   "execution_count": null,
   "metadata": {},
   "outputs": [],
   "source": [
    "n = 500\n",
    "prom = 562\n",
    "confianza = 0.90\n",
    "sigma = 112\n",
    "s = sigma/sqrt(n)\n",
    "mostrar_decimal(s, 's = ')\n",
    "z = ces.qnorm((1+confianza)/2)\n",
    "mostrar_decimal(z, 'z = ')\n",
    "c = z*s\n",
    "mostrar_decimal(c, 'c = ')\n",
    "\n",
    "inf_ic = prom-c\n",
    "sup_ic = prom+c\n",
    "mostrar_decimal(inf_ic,'inf_ic = ', '{:3.0f}')\n",
    "mostrar_decimal(sup_ic,'sup_ic = ', '{:3.0f}')\n",
    "\n",
    "ces.obtener_ic_promedio(tam=500,confianza=0.90,prom=562,s=112)"
   ]
  },
  {
   "cell_type": "code",
   "execution_count": null,
   "metadata": {},
   "outputs": [],
   "source": [
    "ces.obtener_ic_promedio(tam=500,confianza=0.95,prom=562,s=112)"
   ]
  },
  {
   "cell_type": "markdown",
   "metadata": {},
   "source": [
    "## 2.1.3 Intervalo de confianza para una diferencia de proporciones.\n",
    "\n",
    "De dos muestras independientes $n_1$ y $n_2$ de una población grande, con proporciones $p_1$ y $p_2$ respectivamente, desconocidas. Para $n_1$ y $n_2$ grandes, \n",
    "el intervalo $(\\hat{p_1}-\\hat{p_2}-c, \\hat{p_1}-\\hat{p_2}+c)$, donde $c$ es el radio de confianza para la confianza $a$.\n",
    "\n",
    "Esto se debe a que al ser independientes la varianza es la suma de las varianzas de cada una.\n",
    "\n",
    "$c = z_a \\sqrt{\\frac{\\hat{p_1}(1-\\hat{p_1})}{n_1} + \\frac{\\hat{p_2}(1-\\hat{p_2})}{n_2} }$"
   ]
  },
  {
   "cell_type": "markdown",
   "metadata": {},
   "source": [
    "### Ejemplo 2.1.4."
   ]
  },
  {
   "cell_type": "code",
   "execution_count": null,
   "metadata": {},
   "outputs": [],
   "source": [
    "p1 = 35/100\n",
    "n1 = 100\n",
    "p2 = 50/200\n",
    "n2 = 200\n",
    "x = p1 - p2\n",
    "var = p1 * (1-p1)/n1 + p2 * (1-p2)/n2\n",
    "sdm = sqrt(var)\n",
    "confianza = 0.9\n",
    "prob = (1+confianza)/2\n",
    "z = ces.qnorm(prob)\n",
    "c = z * sdm\n",
    "(x-c.n(digits=1), x+c.n(digits=1))\n"
   ]
  },
  {
   "cell_type": "code",
   "execution_count": null,
   "metadata": {},
   "outputs": [],
   "source": []
  },
  {
   "cell_type": "code",
   "execution_count": null,
   "metadata": {},
   "outputs": [],
   "source": [
    "ces.obtener_ic_dif_proporciones(confianza=0.9,\n",
    "                               tam1=100,\n",
    "                               prop1=35/100,\n",
    "                               tam2=200,\n",
    "                               prop2=50/200,\n",
    "                               fmt=':3.2f')"
   ]
  },
  {
   "cell_type": "markdown",
   "metadata": {},
   "source": [
    "## 2.1.4. Intervalo de confianza para la diferencia de promedios.\n",
    "\n",
    "De dos muestras independientes $n_1$ y $n_2$ de una población grande, con promedios $p_1$ y $p_2$ respectivamente, desconocidas. Para $n_1$ y $n_2$ grandes, el intervalo es $(\\hat{p_1}-\\hat{p_2}-c, \\hat{p_1}-\\hat{p_2}+c)$, donde $\\hat{p_1}$ y $\\hat{p_2}$\n",
    "son los promedios de cada muestra y $S_1$ y $S_2$ son las desviaciones estándar de cada muestra. \n",
    "\n",
    "$\\hat{\\sigma_1}$ es la desviación estándar del promedio de la primera muestra.\n",
    "\n",
    "Donde $c$ es el radio de confianza para la confianza $a$.\n",
    "\n",
    "$P(|Z| < z_a) = a$\n",
    "\n",
    "Esto se debe a que al ser independientes la varianza es la suma de las varianzas de cada una.\n",
    "\\begin{align}\n",
    "\\hat{\\sigma_1^2} &= S_1^2/n_1,\\\\\n",
    "\\hat{\\sigma_2^2} &= S_2^2/n_1,\\\\\n",
    "\\hat{\\sigma^2} &= \\hat{\\sigma_1^2} + \\hat{\\sigma_2^2},\\\\\n",
    "\\hat{\\sigma} &= \\sqrt{\\hat{\\sigma^2}},\\\\\n",
    "c &= z_a \\hat{\\sigma}.\n",
    "\\end{align}\n",
    "\n"
   ]
  },
  {
   "cell_type": "markdown",
   "metadata": {},
   "source": [
    "### Ejemplo 2.1.5."
   ]
  },
  {
   "cell_type": "code",
   "execution_count": null,
   "metadata": {},
   "outputs": [],
   "source": [
    "x1 = 562\n",
    "n1 = 500\n",
    "var1 = 112^2\n",
    "x2 = 551\n",
    "n2 = 300\n",
    "var2 = 121^2\n",
    "x = x1 - x2\n",
    "var = var1/n1 + var2/n2\n",
    "sdm = sqrt(var)\n",
    "confianza = 0.95\n",
    "prob = (1+confianza)/2\n",
    "z = ces.qnorm(prob)\n",
    "c = z * sdm\n",
    "((x - c).n(), (x +c).n())"
   ]
  },
  {
   "cell_type": "code",
   "execution_count": null,
   "metadata": {},
   "outputs": [],
   "source": [
    "ces.obtener_ic_dif_promedios(confianza=0.95,\n",
    "                             tam1 = 500,\n",
    "                             prom1 = 562,\n",
    "                             s1 = 112,\n",
    "                             tam2 = 300,\n",
    "                             prom2 = 551,\n",
    "                             s2 = 121,\n",
    "                             fmt = ':3.2f')\n"
   ]
  },
  {
   "cell_type": "markdown",
   "metadata": {},
   "source": [
    "# 2.2. Verificación de hipótesis\n",
    "\n",
    "El escenario de la verificación de hipótesis es\n",
    "similar a la de un juicio. Aquí la hipótesis nula\n",
    "es la que se asume cierta hasta que se demuestre\n",
    "lo contrario, es decir, es la hipótesis\n",
    "conservadora y se denomina hipótesis nula. Para\n",
    "que sea cierta la hipótesis alternativa, debe\n",
    "existir suficiente información como para poder\n",
    "rechazar la validez de la hipótesis nula. Esto es\n",
    "en analogía a que el acusado es inocente hasta que\n",
    "se demuestre lo contrario. Se considera a la\n",
    "hipótesis nula válida hasta que se demuestre lo\n",
    "contrario. Por eso solo se rechaza si la evidencia\n",
    "es suficiente como para que la probabilidad de su\n",
    "validez sea muy pequeña a la luz de la evidencia\n",
    "aportada.\n",
    "\n",
    "Notamos $\\mu_a$ a la cota para $\\mu$ declarada en\n",
    "la hipótesis alternativa.  Puede ser entonces\n",
    "$\\mu_a < \\widehat{\\mu}$, o $\\mu_a >\n",
    "\\widehat{\\mu}$.  Siempre la hipótesis alternativa\n",
    "debería confirmar la evidencia, porque si la\n",
    "evidencia está en su contra, automáticamente la\n",
    "hipótesis nula queda vigente. Esto reduce el\n",
    "análisis a solo dos casos.\n",
    "\n",
    "En la verificación de hipótesis, se puede encarar\n",
    "el problema desde dos perspectivas, que pueden\n",
    "ayudar a comprender mejor el problema. La primera,\n",
    " indicada en el libro de Schinazi,\n",
    "considera el apartamiento del promedio de la\n",
    "muestra $\\widehat{\\mu}$ centrado en la cota del\n",
    "promedio de la hipótesis alternativa $\\mu_a$. \n",
    "\n",
    "La otra perspectiva considera, análogamente al caso de la\n",
    "determinación de intervalos de confianza, el\n",
    "apartamiento de $\\mu_a$ centrado en\n",
    "$\\widehat{\\mu}$.\n",
    "\n",
    "### Caso $\\widehat{\\mu} < \\mu_a$.\n",
    "\n",
    "1) Solo cabe dudar si $\\mu_a$ es una cota inferior\n",
    "   que la hipótesis alternativa sostiene para el\n",
    "   promedio $\\mu$: $\\widehat{\\mu} < \\mu_a < \\mu$.\n",
    "   Por lo tanto, para rechazar la hipótesis nula,\n",
    "   la  probabilidad\n",
    "    \\begin{equation*}\n",
    "    \\mathbb{P}(\\frac{X-\\mu_a }\n",
    "        {\\widetilde{\\sigma}} \n",
    "        <\n",
    "        \\frac{\\widehat{\\mu}-\\mu_a }\n",
    "        {\\widetilde{\\sigma}}\n",
    "    ) = P,\n",
    "    \\end{equation*}\n",
    "    para P suficientemente bajo, indica que es\n",
    "    muy poco probable que $\\mu = \\mu_a$, y\n",
    "    por tanto, es evidencia a favor\n",
    "    del rechazo de la hipótesis nula.\n",
    "\n",
    "2) Desde la perspectiva de los intervalos de\n",
    "    confianza, la idea es centrar el problema\n",
    "    en $\\widehat{\\mu}$, y así:    \n",
    "    \\begin{equation*}\n",
    "    \\mathbb{P}(\n",
    "        \\frac{\\mu-\\widehat{\\mu}}\n",
    "        {\\widetilde{\\sigma}}\n",
    "        >\n",
    "        \\frac{\\mu_a-\\widehat{\\mu}}\n",
    "        {\\widetilde{\\sigma}}\n",
    "    ) = P,\n",
    "    \\end{equation*}\n",
    "    para P suficientemente bajo, indica que la\n",
    "    probabilidad de $\\mu_a = \\mu$, está por\n",
    "    debajo del límite para sostener la\n",
    "    hipótesis nula, y la evidencia es\n",
    "    suficiente para rechazarla.\n",
    "\n",
    "\n",
    "### Caso $\\mu_a < \\widehat{\\mu}$.\n",
    "\n",
    "1) Solo cabe\n",
    "    dudar si $\\mu_a$ es una cota superior que\n",
    "    la hipótesis alternativa sostiene para el\n",
    "    promedio $\\mu$: $\\mu < \\mu_a < \\widehat{\\mu}$.\n",
    "    Por lo tanto, para rechazar la hipótesis\n",
    "    nula, la probabilidad\n",
    "    \\begin{equation*}\n",
    "    \\mathbb{P}(\n",
    "        \\frac{X-\\mu_a}\n",
    "        {\\widetilde{\\sigma}} \n",
    "        >\n",
    "        \\frac{\\widehat{\\mu}-\\mu_a}\n",
    "        {\\widetilde{\\sigma}}\n",
    "    ) = P,\n",
    "    \\end{equation*}\n",
    "    para P suficientemente bajo, indica que es\n",
    "    muy poco probable que $\\mu = \\mu_a$, y\n",
    "    por tanto, es una fuerte evidencia a favor\n",
    "    del rechazo de la hipótesis nula.\n",
    "\n",
    "2) Desde la perspectiva de los intervalos de\n",
    "    confianza, la idea es centrar el problema\n",
    "    en $\\widehat{\\mu}$, y así\n",
    "    \\begin{equation*}\n",
    "    \\mathbb{P}(\n",
    "        \\frac{\\mu-\\widehat{\\mu}}\n",
    "        {\\widetilde{\\sigma}}\n",
    "        <\n",
    "        \\frac{\\mu_a-\\widehat{\\mu}}\n",
    "        {\\widetilde{\\sigma}}\n",
    "    ) = P,\n",
    "    \\end{equation*}\n",
    "    para P suficientemente bajo, indica que la\n",
    "    probabilidad de $\\mu_a = \\mu$, está por\n",
    "    debajo del límite para sostener la\n",
    "    hipótesis nula, y la evidencia es\n",
    "    suficiente para rechazarla."
   ]
  },
  {
   "cell_type": "markdown",
   "metadata": {},
   "source": [
    "## 2.2.1. Verificación de proporción\n",
    "\n",
    "### Ejemplo 2.2.1.\n",
    "\n",
    "Si un proveedor argumenta que produce menos de $5$ por\n",
    "ciento de fallas. En una prueba de $100$ elementos se\n",
    "encuentran $4$ defectuosos.\n",
    "\n",
    "Es decir, el proveedor afirma que la proporción de\n",
    "fallas que caracteriza a su producción, es menor a $p =\n",
    "0.05.$\n",
    "\n",
    "Al realizar la prueba de verificación obtuvimos\n",
    "$\\widehat{p}=0.04.$\n",
    "\n",
    "$p$ es un parámetro desconocido pero fijo, y\n",
    "$\\widehat{p}$ es conocido pero que varía aleatoriamente\n",
    "con cada muestra que tomemos. Como el tamaño de las\n",
    "muestras es $100 > 25$, sabemos que sea el valor que\n",
    "tome $p$, los valores de las proporciones $\\widehat{p}$\n",
    "de las muestras variarán entorno a $p$ con una\n",
    "distribución aproximadamente normal, con promedio $p$ y\n",
    "varianza:\n",
    "\\begin{equation*}\n",
    "\\sigma^2 = \\frac{p(1-p)}{n},\n",
    "\\end{equation*}\n",
    "ya que las fallas y éxitos corresponden a una distribución\n",
    "Bernoulli.\n",
    "\n",
    "El proveedor afirma que $p < 0.05$, por lo que no cumple si\n",
    "$p=0.05$, como es posible verificar que si el proveedor\n",
    "declarase un límite de fallas mayor aceptable, aumentan sus\n",
    "probabilidades de que la verificación resulte a su favor. Por lo tanto, como la intención no es favorecerlo en el planteo del test, la prueba más difícil que debería pasar el proveedor, es que asumamos que $p=0.05$.\n",
    "\n",
    "\\begin{align*}\n",
    "\\sigma &= \\sqrt{\\frac{p \\times (1-p)}{n}}= \\text{ , y } \\\\\n",
    "z_a &= \\frac{\\widehat{p} - p}{\\sigma}.\n",
    "\\end{align*}\n",
    "\n",
    "Obtenemos $z_a = -0.46$ a la que corresponde una probabilidad $0.32$.\n"
   ]
  },
  {
   "cell_type": "code",
   "execution_count": null,
   "metadata": {},
   "outputs": [],
   "source": [
    "P_1 = ces.dibujar_densidad(r=4,zl=-4,zi=-z, zf=z,zr=4,\n",
    "                                rgbcolor='green')\n",
    "show(P_1)"
   ]
  },
  {
   "cell_type": "code",
   "execution_count": null,
   "metadata": {},
   "outputs": [],
   "source": [
    "p = 0.05\n",
    "p_s = 0.04\n",
    "n = 100\n",
    "s = sqrt(p*(1-p)/n)\n",
    "z = (p_s - p)/s\n",
    "print(z)\n",
    "N_z = ces.pnorm(z)\n",
    "print(N_z)"
   ]
  },
  {
   "cell_type": "code",
   "execution_count": null,
   "metadata": {},
   "outputs": [],
   "source": [
    "ces.dibujar_densidad(r=4, zi=-4,zf=z, rgbcolor='blue')"
   ]
  },
  {
   "cell_type": "markdown",
   "metadata": {},
   "source": [
    "### Ejemplo 2.2.2\n",
    "\n",
    "En este caso un empresario afirma que sus clientes cubren más del\n",
    "$10$ por ciento del mercado. En una encuesta entre $1000$\n",
    "clientes tomada al azar, $121$ de ellos fueron sus clientes.\n",
    "\n",
    "Razonando de forma análoga al caso anterior, un $10$ por ciento\n",
    "sería insuficiente, y la diferencia a considerar es\n",
    "\\begin{align*}\n",
    "    \\widehat{p} - p &= 0.021,\\\\\n",
    "    \\sigma &= 0.00948,\n",
    "\\end{align*}\n",
    "y el valor $z$ correspondiente es $2.214$.\n",
    "La probabilidad entonces es $0.013$, menor por tanto al $0.05$ necesario para\n",
    "sostener nuestra $H_0$, de que el empresario podría estar\n",
    "equivocado.\n"
   ]
  },
  {
   "cell_type": "code",
   "execution_count": null,
   "metadata": {},
   "outputs": [],
   "source": [
    "p = 0.10\n",
    "p_s = 0.121\n",
    "n = 1000\n",
    "s = sqrt(p*(1-p)/n)\n",
    "z = (p_s- p)/s\n",
    "print(z)\n",
    "N_z = ces.pnorm(z)\n",
    "print(1-N_z)"
   ]
  },
  {
   "cell_type": "markdown",
   "metadata": {},
   "source": [
    "Como $P=0.0134 < 0.05$, al nivel 5% es suficiente evidencia estadística de $H_a$, rechazamos $H_0$. "
   ]
  },
  {
   "cell_type": "code",
   "execution_count": null,
   "metadata": {},
   "outputs": [],
   "source": [
    "ces.dibujar_densidad(r=4, zi=z, zf=4, rgbcolor='blue')"
   ]
  },
  {
   "cell_type": "code",
   "execution_count": null,
   "metadata": {},
   "outputs": [],
   "source": [
    "ces.dibujar_densidad(tipod=('gaussian',1),\n",
    "                     r=4, zl=-4, zi=z, zf=4,zr=4,\n",
    "                     alpha=0.5,\n",
    "                     rgbcolor='blue', edgecolor='blue',\n",
    "                     thickness=1,\n",
    "                     legend_label='', legend_color='blue',\n",
    "                     aspect_ratio=8, \n",
    "                     fill=True,\n",
    "                     complemento=False)     "
   ]
  },
  {
   "cell_type": "code",
   "execution_count": null,
   "metadata": {},
   "outputs": [],
   "source": [
    "dp = 0.121 - 0.1;\n",
    "s = sqrt(0.1*0.9/1000);\n",
    "dz = dp/s;\n",
    "print(dp.n(digits=3))\n",
    "print(s.n(digits=3))\n",
    "print(dz.n(digits=3))"
   ]
  },
  {
   "cell_type": "code",
   "execution_count": null,
   "metadata": {},
   "outputs": [],
   "source": [
    "p = 1 - ces.pnorm(dz)\n",
    "p.n(digits=3)"
   ]
  },
  {
   "cell_type": "markdown",
   "metadata": {},
   "source": [
    "### Ejemplo\n",
    "\n",
    "Si los pesos de 5 niños de 9 años son 25.0,28,24,26,24, tomados de cierta población, encontrar el intervalo de confianza para el peso medio de los niños de 9 años de dicha población."
   ]
  },
  {
   "cell_type": "code",
   "execution_count": null,
   "metadata": {},
   "outputs": [],
   "source": [
    "confianza=0.9\n",
    "pesos = [25.0,28,24,26,24]\n",
    "n = len(pesos)\n",
    "m=mean(pesos)\n",
    "sdm = std(pesos)/sqrt(n)\n",
    "print(sdm.n())\n",
    "\n",
    "z1 = r.qt((1+confianza)/2, df=4);z1\n",
    "# z1 = r.qt(0.5, df=4); z1\n",
    "\n",
    "z = ces.qt((1+confianza)/2, 4)\n",
    "print(z.n())\n",
    "\n",
    "c = RDF(z*sdm)\n",
    "\n",
    "print((m-c, m+c))"
   ]
  },
  {
   "cell_type": "markdown",
   "metadata": {},
   "source": [
    "### Ejemplos de cálculos de distribuciones en SageMath y R\n"
   ]
  },
  {
   "cell_type": "code",
   "execution_count": null,
   "metadata": {},
   "outputs": [],
   "source": [
    "T = RealDistribution('t',4)"
   ]
  },
  {
   "cell_type": "code",
   "execution_count": null,
   "metadata": {},
   "outputs": [],
   "source": [
    "T.cum_distribution_function_inv(1.9/2)"
   ]
  },
  {
   "cell_type": "code",
   "execution_count": null,
   "metadata": {},
   "outputs": [],
   "source": [
    "ces.qt(1.9/2,4)"
   ]
  },
  {
   "cell_type": "code",
   "execution_count": null,
   "metadata": {},
   "outputs": [],
   "source": [
    "ces.qnorm(1.9/2)"
   ]
  },
  {
   "cell_type": "code",
   "execution_count": null,
   "metadata": {},
   "outputs": [],
   "source": [
    "C = RealDistribution('chisquared',1)"
   ]
  },
  {
   "cell_type": "code",
   "execution_count": null,
   "metadata": {},
   "outputs": [],
   "source": [
    "C.cum_distribution_function_inv(1.9/2)"
   ]
  },
  {
   "cell_type": "code",
   "execution_count": 10,
   "metadata": {},
   "outputs": [
    {
     "data": {
      "text/plain": [
       "[1] 3.841459"
      ]
     },
     "execution_count": 10,
     "metadata": {},
     "output_type": "execute_result"
    }
   ],
   "source": [
    "r.qchisq(1.9/2,df=1)"
   ]
  },
  {
   "cell_type": "code",
   "execution_count": null,
   "metadata": {},
   "outputs": [],
   "source": [
    "ces.qchisq(1.9/2,1)"
   ]
  },
  {
   "cell_type": "code",
   "execution_count": 11,
   "metadata": {},
   "outputs": [
    {
     "data": {
      "text/plain": [
       "[1] 0.95"
      ]
     },
     "execution_count": 11,
     "metadata": {},
     "output_type": "execute_result"
    }
   ],
   "source": [
    "r.pchisq(3.84146,1)"
   ]
  },
  {
   "cell_type": "code",
   "execution_count": null,
   "metadata": {},
   "outputs": [],
   "source": [
    "ces.pchisq(3.84146,1)"
   ]
  },
  {
   "cell_type": "code",
   "execution_count": null,
   "metadata": {},
   "outputs": [],
   "source": [
    "plot_n = ces.dibujar_densidad(rgbcolor='red', fill=False, legend_color='red',legend_label='normal')\n",
    "plot_t = ces.dibujar_densidad(tipod=('t',2),r=6, rgbcolor='blue',fill=False, legend_color='blue', legend_label='t')\n",
    "plots = plot_n + plot_t\n",
    "show(plots)"
   ]
  },
  {
   "cell_type": "code",
   "execution_count": 12,
   "metadata": {},
   "outputs": [
    {
     "data": {
      "image/png": "[encoded data removed]",
      "text/plain": [
       "Graphics object consisting of 4 graphics primitives"
      ]
     },
     "metadata": {},
     "output_type": "display_data"
    }
   ],
   "source": [
    "plot_n = ces.dibujar_densidad(tipod=('gaussian',1),\n",
    "                               r=5, zl=-4, zr=4,\n",
    "                               alpha=0.5,\n",
    "                              rgbcolor='blue', edgecolor='blue',\n",
    "                              thickness=2,\n",
    "                              legend_label='normal',legend_color='blue',\n",
    "                              aspect_ratio=15, fill=False,\n",
    "                              complemento=False\n",
    "                             )\n",
    "\n",
    "plot_t = ces.dibujar_densidad(tipod=('t',2),\n",
    "                              r=6, zl=-6, zr=6,\n",
    "                              alpha=0.5,\n",
    "                              rgbcolor='red', edgecolor='red',\n",
    "                              thickness=2,\n",
    "                              legend_label='t', legend_color='red',\n",
    "                              aspect_ratio=15, fill=False,\n",
    "                              complemento=False\n",
    "                             )                              \n",
    "plots = plot_n + plot_t\n",
    "show(plots)"
   ]
  },
  {
   "cell_type": "code",
   "execution_count": null,
   "metadata": {},
   "outputs": [],
   "source": []
  },
  {
   "cell_type": "markdown",
   "metadata": {},
   "source": [
    "## Intervalo de confianza del promedio para pequeñas muestras, asumiendo distribución normal de los promedios"
   ]
  },
  {
   "cell_type": "markdown",
   "metadata": {},
   "source": [
    "### Ejemplo\n",
    "\n",
    "Si los pesos de 5 niños de 9 años son 25.0,28,24,26,24, tomados de cierta población, encontrar el intervalo de confianza para el peso medio de los niños de 9 años de dicha población."
   ]
  },
  {
   "cell_type": "code",
   "execution_count": 13,
   "metadata": {},
   "outputs": [
    {
     "name": "stdout",
     "output_type": "stream",
     "text": [
      "0.748331477354788\n",
      "2.13184678632665\n",
      "(23.8046719448941, 26.9953280551059)\n"
     ]
    }
   ],
   "source": [
    "confianza=0.9\n",
    "pesos = [25.0,28,24,26,24]\n",
    "n = len(pesos)\n",
    "m=mean(pesos)\n",
    "sdm = std(pesos)/sqrt(n)\n",
    "print(sdm.n())\n",
    "\n",
    "z1 = r.qt((1+confianza)/2, df=4);z1\n",
    "# z1 = r.qt(0.5, df=4); z1\n",
    "\n",
    "z = ces.qt((1+confianza)/2, 4)\n",
    "print(z.n())\n",
    "\n",
    "c = RDF(z*sdm)\n",
    "\n",
    "print((m-c, m+c))"
   ]
  },
  {
   "cell_type": "markdown",
   "metadata": {},
   "source": [
    "## Verificación de hipótesis del promedio para pequeñas muestras, asumiendo distribución normal de los promedios"
   ]
  },
  {
   "cell_type": "markdown",
   "metadata": {},
   "source": [
    "### (Ejemplo 2.3.3)\n",
    "\n",
    "Un proveedor afirma que una medicación brinda más de $3$ horas de alivio.\n",
    "\n",
    "### Verificación.\n",
    "\n",
    "Se prueba el efecto con una muestra de $6$ pacientes. El promedio de tiempo de alivio es $200$ min y la desviación estándar es $40$ min.\n",
    "\n",
    "\\begin{equation*}\n",
    "    Planteo\n",
    "    \\begin{cases}\n",
    "        H_0 & : \\mu = 180, \\\\\n",
    "        H_a & : \\mu > 180.\n",
    "    \\end{cases}\n",
    "\\end{equation*}"
   ]
  },
  {
   "cell_type": "markdown",
   "metadata": {},
   "source": [
    "Para calcular el valor $P$ en este caso:\n",
    "\n",
    "\\begin{equation*}\n",
    "    \\tilde{\\sigma} = \\frac {S} { \\sqrt{n} }\n",
    "\\end{equation*}\n"
   ]
  },
  {
   "cell_type": "code",
   "execution_count": 17,
   "metadata": {},
   "outputs": [
    {
     "name": "stdout",
     "output_type": "stream",
     "text": [
      "16.3299316185545\n"
     ]
    }
   ],
   "source": [
    "sdm = 40/sqrt(6)\n",
    "print(sdm.n())"
   ]
  },
  {
   "cell_type": "markdown",
   "metadata": {},
   "source": [
    "\\begin{align*}\n",
    "    P &= \\mathbb{P}(\\frac{ \\bar{X} - 180 }{\\tilde{\\sigma}} > \\frac {200 - 180} {\\tilde{\\sigma}} ),\n",
    "    \\text{ donde} \\\\\n",
    "    &\\frac{ \\bar{X} - 180 }{\\tilde{\\sigma}} \\sim t(5).\n",
    "\\end{align*}\n",
    "\n",
    "Entonces,\n",
    "\\begin{equation*}\n",
    "    P = \\mathbb{P}( t(5) > 20/\\tilde{\\sigma} )\n",
    "\\end{equation*}\n"
   ]
  },
  {
   "cell_type": "code",
   "execution_count": 18,
   "metadata": {},
   "outputs": [
    {
     "name": "stdout",
     "output_type": "stream",
     "text": [
      "1.22474487139159\n",
      "0.138\n"
     ]
    }
   ],
   "source": [
    "t2 = 20/sdm\n",
    "print(t2.n())\n",
    "P = 1-ces.pt(t2, 5)\n",
    "print(P.n(digits=3))"
   ]
  },
  {
   "cell_type": "code",
   "execution_count": 19,
   "metadata": {},
   "outputs": [
    {
     "name": "stdout",
     "output_type": "stream",
     "text": [
      "0.1376098659869922\n"
     ]
    }
   ],
   "source": [
    "t1 = -20/sdm\n",
    "P1 = ces.pt(t1,5)\n",
    "print(P)"
   ]
  },
  {
   "cell_type": "markdown",
   "metadata": {},
   "source": [
    "A un nivel de 5%, la evidencia para $H_a$: $P = 0.138$, es insuficiente para rechazar $H_0$."
   ]
  },
  {
   "cell_type": "code",
   "execution_count": 20,
   "metadata": {},
   "outputs": [
    {
     "data": {
      "text/plain": [
       "0.1384319056707699"
      ]
     },
     "execution_count": 20,
     "metadata": {},
     "output_type": "execute_result"
    }
   ],
   "source": [
    "1-ces.pt(1.22,5)"
   ]
  },
  {
   "cell_type": "code",
   "execution_count": 21,
   "metadata": {},
   "outputs": [
    {
     "name": "stdout",
     "output_type": "stream",
     "text": [
      "1.35977939387240\n",
      "-1.76499218241956\n"
     ]
    },
    {
     "data": {
      "text/plain": [
       "0.055691278698884794"
      ]
     },
     "execution_count": 21,
     "metadata": {},
     "output_type": "execute_result"
    }
   ],
   "source": [
    "s = 4.3/sqrt(10)\n",
    "print(s.n())\n",
    "t1 = -2.4/s\n",
    "print(t1.n())\n",
    "ces.pt(t1,9)"
   ]
  },
  {
   "cell_type": "code",
   "execution_count": 22,
   "metadata": {},
   "outputs": [
    {
     "data": {
      "image/png": "[encoded data removed]",
      "text/plain": [
       "Graphics object consisting of 2 graphics primitives"
      ]
     },
     "execution_count": 22,
     "metadata": {},
     "output_type": "execute_result"
    }
   ],
   "source": [
    "ces.dibujar_densidad(tipod=('t',5),\n",
    "                     r=6, zl=-8,zi=1.22, zf=6, zr=8,\n",
    "                     alpha=0.5,\n",
    "                     rgbcolor='blue', edgecolor='blue',\n",
    "                     thickness=2,\n",
    "                     legend_label='t', legend_color='blue',\n",
    "                     aspect_ratio=15, \n",
    "                     fill=True,\n",
    "                     complemento=False)                              "
   ]
  },
  {
   "cell_type": "code",
   "execution_count": 23,
   "metadata": {},
   "outputs": [
    {
     "data": {
      "text/plain": [
       "8.22500000000000"
      ]
     },
     "execution_count": 23,
     "metadata": {},
     "output_type": "execute_result"
    }
   ],
   "source": [
    "47*35/200.n()"
   ]
  },
  {
   "cell_type": "markdown",
   "metadata": {},
   "source": [
    "## 2.4. Aplicación de la distribución Chi cuadrado.\n",
    "\n",
    "### 2.4.1. Verificación de independencia entre dos características de la población\n",
    "\n",
    "### Ejemplo 2.4.1."
   ]
  },
  {
   "cell_type": "code",
   "execution_count": 24,
   "metadata": {},
   "outputs": [],
   "source": [
    "def ec(tabla, fila, columna):\n",
    "    tf, tc = 0,0\n",
    "    for j in range(tabla.ncols()):\n",
    "        tf += tabla[fila,j]\n",
    "    for i in range(tabla.nrows()):\n",
    "        tc += tabla[i,columna]\n",
    "    return(tf*tc)\n",
    "\n",
    "def ex(tabla):\n",
    "    to=0\n",
    "    E=matrix(QQ,tabla.nrows(), tabla.ncols())\n",
    "    for i in range(tabla.nrows()):\n",
    "        for j in range(tabla.ncols()):\n",
    "            to += tabla[i,j]\n",
    "    for fila in range(tabla.nrows()):\n",
    "        for columna in range(tabla.ncols()):\n",
    "            E[fila,columna] = ec(tabla, fila, columna)/to\n",
    "    return E\n",
    "\n",
    "def Xsq(O):\n",
    "    E = ex(O)\n",
    "    sum=0\n",
    "    for i in range(O.nrows()):\n",
    "        for j in range(O.ncols()):\n",
    "            sum += (O[i,j]-E[i,j])^2/E[i,j]\n",
    "    return(sum)"
   ]
  },
  {
   "cell_type": "code",
   "execution_count": 25,
   "metadata": {},
   "outputs": [
    {
     "name": "stdout",
     "output_type": "stream",
     "text": [
      "[ 9 38]\n",
      "[21 80]\n",
      "[ 5 47]\n"
     ]
    }
   ],
   "source": [
    "O = matrix(QQ,[[9,38],[21,80],[5,47]])\n",
    "print(O)\n",
    "# print(O.nrows(),O.ncols())\n",
    "total = sum(sum(O))\n",
    "# print(total)"
   ]
  },
  {
   "cell_type": "code",
   "execution_count": 26,
   "metadata": {},
   "outputs": [
    {
     "name": "stdout",
     "output_type": "stream",
     "text": [
      "[ 329/40 1551/40]\n",
      "[ 707/40 3333/40]\n",
      "[  91/10  429/10]\n"
     ]
    }
   ],
   "source": [
    "E = ex(O)\n",
    "print(E)"
   ]
  },
  {
   "cell_type": "code",
   "execution_count": 27,
   "metadata": {},
   "outputs": [
    {
     "name": "stdout",
     "output_type": "stream",
     "text": [
      "3.08578437923287\n",
      "0.21376196639100808\n"
     ]
    }
   ],
   "source": [
    "x = Xsq(O)\n",
    "print(x.n())\n",
    "P = 1 - ces.pchisq(x.n(), df=2)\n",
    "print(P)"
   ]
  },
  {
   "cell_type": "code",
   "execution_count": 28,
   "metadata": {
    "scrolled": true
   },
   "outputs": [
    {
     "name": "stdout",
     "output_type": "stream",
     "text": [
      "True\n"
     ]
    }
   ],
   "source": [
    "H_0=P > 0.05\n",
    "print(H_0)"
   ]
  },
  {
   "cell_type": "code",
   "execution_count": 30,
   "metadata": {},
   "outputs": [
    {
     "data": {
      "image/png": "[encoded data removed]",
      "text/plain": [
       "Graphics object consisting of 2 graphics primitives"
      ]
     },
     "metadata": {},
     "output_type": "display_data"
    }
   ],
   "source": [
    "plotchi1 = ces.dibujar_densidad(tipod=('chisquared',2),\n",
    "                               r=4, zl=0,zi=x, zr=10,\n",
    "                               alpha=0.5,\n",
    "                              rgbcolor='blue', edgecolor='blue',\n",
    "                              thickness=2,\n",
    "                              legend_label='normal',legend_color='blue',\n",
    "                              aspect_ratio=16, fill=True,\n",
    "                              complemento=False\n",
    "                             )\n",
    "show(plotchi1)"
   ]
  },
  {
   "cell_type": "markdown",
   "metadata": {},
   "source": [
    "# Distribuciones de Probabilidad\n",
    "## Distribución general"
   ]
  },
  {
   "cell_type": "code",
   "execution_count": 32,
   "metadata": {},
   "outputs": [],
   "source": [
    "P = [0.3, 0.4, 0.3]\n",
    "X = GeneralDiscreteDistribution(P)\n",
    "# X.set_seed(1)"
   ]
  },
  {
   "cell_type": "code",
   "execution_count": 33,
   "metadata": {},
   "outputs": [
    {
     "name": "stdout",
     "output_type": "stream",
     "text": [
      "[1, 0, 2, 0, 1, 0, 0, 0, 1, 1, 2, 0, 1, 2, 2, 1, 0, 2, 0, 0]\n",
      "[2994, 3923, 3083]\n"
     ]
    },
    {
     "data": {
      "text/plain": [
       "[0.299400000000000, 0.392300000000000, 0.308300000000000]"
      ]
     },
     "execution_count": 33,
     "metadata": {},
     "output_type": "execute_result"
    }
   ],
   "source": [
    "lx = [X.get_random_element() for i in range(20)]\n",
    "print(lx)\n",
    "cuentas = [0]*len(P)\n",
    "nr_muestras=10000\n",
    "for i in range(nr_muestras):\n",
    "    cuentas[X.get_random_element()] += 1\n",
    "print(cuentas)\n",
    "[1.0*x/nr_muestras for x in cuentas]"
   ]
  },
  {
   "cell_type": "code",
   "execution_count": 34,
   "metadata": {},
   "outputs": [
    {
     "name": "stdout",
     "output_type": "stream",
     "text": [
      "[0.208, 0.0, 0.22750000000000004, 0.0, 0.8774999999999997, 0.0, 0.21233333333333326, 0.0, 0.23183333333333325, 0.0, 0.2361666666666666, 0.0, 0.17333333333333328]\n"
     ]
    },
    {
     "data": {
      "image/png": "[encoded data removed]",
      "text/plain": [
       "<Figure size 432x288 with 1 Axes>"
      ]
     },
     "metadata": {},
     "output_type": "display_data"
    }
   ],
   "source": [
    "from sage.probability.probability_distribution import GeneralDiscreteDistribution\n",
    "P = [0.1, 0.1, 0.3999, 0.1, 0.1, 0.1, 0.1001]\n",
    "X = GeneralDiscreteDistribution(P)\n",
    "h, b = X.generate_histogram_data(bins = 13)\n",
    "print(h)  # rel tol 1e-08\n",
    "# file = os.path.join(SAGE_TMP, \"my_general_distribution_plot\")\n",
    "# X.generate_histogram_plot(file)\n"
   ]
  },
  {
   "cell_type": "markdown",
   "metadata": {},
   "source": [
    "## Distribución uniforme"
   ]
  },
  {
   "cell_type": "code",
   "execution_count": 36,
   "metadata": {},
   "outputs": [
    {
     "name": "stdout",
     "output_type": "stream",
     "text": [
      "0.5\n",
      "0.5\n",
      "1.0\n"
     ]
    }
   ],
   "source": [
    "a = 0\n",
    "b = 2\n",
    "T = RealDistribution('uniform', [a, b])\n",
    "T.get_random_element()\n",
    "\n",
    "print(T.distribution_function(0))\n",
    "\n",
    "print(T.cum_distribution_function(1))\n",
    "\n",
    "print(T.cum_distribution_function_inv(.5))\n"
   ]
  },
  {
   "cell_type": "code",
   "execution_count": 37,
   "metadata": {},
   "outputs": [
    {
     "data": {
      "text/plain": [
       "6"
      ]
     },
     "execution_count": 37,
     "metadata": {},
     "output_type": "execute_result"
    }
   ],
   "source": [
    "binomial(4,2)"
   ]
  },
  {
   "cell_type": "markdown",
   "metadata": {},
   "source": [
    "### R binomial distribution\n",
    "\n",
    "dbinom(x, size, prob, log = FALSE)\n",
    "\n",
    "pbinom(q, size, prob, lower.tail = TRUE, log.p = FALSE)\n",
    "\n",
    "qbinom(p, size, prob, lower.tail = TRUE, log.p = FALSE)\n",
    "\n",
    "rbinom(n, size, prob)"
   ]
  },
  {
   "cell_type": "code",
   "execution_count": 38,
   "metadata": {},
   "outputs": [
    {
     "data": {
      "text/plain": [
       "1/90*pi^4"
      ]
     },
     "execution_count": 38,
     "metadata": {},
     "output_type": "execute_result"
    }
   ],
   "source": [
    "k, m = var('k, m')\n",
    "sum(1/k^4, k, 1, oo)  "
   ]
  },
  {
   "cell_type": "code",
   "execution_count": 39,
   "metadata": {},
   "outputs": [
    {
     "data": {
      "text/plain": [
       "1"
      ]
     },
     "execution_count": 39,
     "metadata": {},
     "output_type": "execute_result"
    }
   ],
   "source": [
    "k,m,x,p = var('k,m,x,p')\n",
    "sum(binomial(m,k)*p^k*(1-p)^(m-k), k, 0, m)"
   ]
  },
  {
   "cell_type": "code",
   "execution_count": 40,
   "metadata": {},
   "outputs": [
    {
     "data": {
      "text/plain": [
       "n*p"
      ]
     },
     "execution_count": 40,
     "metadata": {},
     "output_type": "execute_result"
    }
   ],
   "source": [
    "i,n,p = var('i,n,p')\n",
    "sum(i*binomial(n,i)*p^i*(1-p)^(n-i), i, 0, n)"
   ]
  },
  {
   "cell_type": "code",
   "execution_count": 41,
   "metadata": {},
   "outputs": [
    {
     "data": {
      "text/plain": [
       "-n^2*p^2 + (n^2 - n)*p^2 + n*p"
      ]
     },
     "execution_count": 41,
     "metadata": {},
     "output_type": "execute_result"
    }
   ],
   "source": [
    "sum(i^2*binomial(n,i)*p^i*(1-p)^(n-i), i, 0, n) - (n*p)^2"
   ]
  },
  {
   "cell_type": "code",
   "execution_count": 42,
   "metadata": {},
   "outputs": [
    {
     "data": {
      "text/plain": [
       "1.11803398874989"
      ]
     },
     "execution_count": 42,
     "metadata": {},
     "output_type": "execute_result"
    }
   ],
   "source": [
    "sqrt(5/4).n()"
   ]
  },
  {
   "cell_type": "code",
   "execution_count": 43,
   "metadata": {},
   "outputs": [
    {
     "data": {
      "text/plain": [
       "0.223606797749979"
      ]
     },
     "execution_count": 43,
     "metadata": {},
     "output_type": "execute_result"
    }
   ],
   "source": [
    "sqrt(0.5*0.5/5)"
   ]
  },
  {
   "cell_type": "code",
   "execution_count": 44,
   "metadata": {},
   "outputs": [
    {
     "data": {
      "text/plain": [
       "0.0539444158370447"
      ]
     },
     "execution_count": 44,
     "metadata": {},
     "output_type": "execute_result"
    }
   ],
   "source": [
    "sqrt(0.97*0.03/10)"
   ]
  },
  {
   "cell_type": "code",
   "execution_count": 45,
   "metadata": {},
   "outputs": [
    {
     "name": "stdout",
     "output_type": "stream",
     "text": [
      "  [1] 4 2 2 3 4 1 2 2 3 4 2 1 2 4 1 2 2 3 2 2 4 5 3 2 4 3 2 4 2 2 3 4 2 2 3 2 2\n",
      " [38] 2 3 3 1 1 1 0 2 4 1 2 2 1 2 0 3 2 2 3 1 2 3 1 4 3 2 3 1 1 2 1 4 3 3 2 3 5\n",
      " [75] 3 3 2 1 2 1 2 4 1 3 2 2 3 1 4 3 0 2 1 3 2 2 2 1 4 2\n"
     ]
    },
    {
     "data": {
      "text/plain": [
       "  [1] 4 2 2 3 4 1 2 2 3 4 2 1 2 4 1 2 2 3 2 2 4 5 3 2 4 3 2 4 2 2 3 4 2 2 3 2 2\n",
       " [38] 2 3 3 1 1 1 0 2 4 1 2 2 1 2 0 3 2 2 3 1 2 3 1 4 3 2 3 1 1 2 1 4 3 3 2 3 5\n",
       " [75] 3 3 2 1 2 1 2 4 1 3 2 2 3 1 4 3 0 2 1 3 2 2 2 1 4 2"
      ]
     },
     "execution_count": 45,
     "metadata": {},
     "output_type": "execute_result"
    }
   ],
   "source": [
    "%r b <- rbinom(n=100,size=5,prob=0.5)\n",
    "\n",
    "%r print(b)"
   ]
  },
  {
   "cell_type": "code",
   "execution_count": 46,
   "metadata": {},
   "outputs": [
    {
     "data": {
      "text/plain": [
       "[46, 47, 48, 49, 50, 51, 52, 53, 54]"
      ]
     },
     "execution_count": 46,
     "metadata": {},
     "output_type": "execute_result"
    }
   ],
   "source": [
    "list(range(46,55))"
   ]
  },
  {
   "cell_type": "code",
   "execution_count": 47,
   "metadata": {},
   "outputs": [
    {
     "data": {
      "text/plain": [
       "[1] 0.6317984"
      ]
     },
     "execution_count": 47,
     "metadata": {},
     "output_type": "execute_result"
    }
   ],
   "source": [
    "# Evaluar P(45 < X < 55) para X Binomial(100,0.5)\n",
    "sum(r.dbinom(list(range(46,55)), 100, 0.5))"
   ]
  },
  {
   "cell_type": "code",
   "execution_count": 48,
   "metadata": {},
   "outputs": [
    {
     "data": {
      "text/plain": [
       "[1] 0.6317984"
      ]
     },
     "execution_count": 48,
     "metadata": {},
     "output_type": "execute_result"
    }
   ],
   "source": [
    "r.pbinom(54,100,0.5) - r.pbinom(45,100,0.5)"
   ]
  },
  {
   "cell_type": "markdown",
   "metadata": {},
   "source": [
    "### Verificando la distribución de las muestras"
   ]
  },
  {
   "cell_type": "code",
   "execution_count": 50,
   "metadata": {},
   "outputs": [
    {
     "data": {
      "text/plain": [
       "[0.292900000000000, 0.403500000000000, 0.303600000000000]"
      ]
     },
     "execution_count": 50,
     "metadata": {},
     "output_type": "execute_result"
    }
   ],
   "source": [
    "P = [0.3, 0.4, 0.3]\n",
    "cuentas = [0] * len(P)\n",
    "X = GeneralDiscreteDistribution(P)\n",
    "nr_muestras = 10000\n",
    "for _ in range(nr_muestras):\n",
    "    cuentas[X.get_random_element()] += 1\n",
    "[1.0*x/nr_muestras for x in cuentas]"
   ]
  },
  {
   "cell_type": "markdown",
   "metadata": {},
   "source": [
    "La distribución de probabilidades es normalizada automáticamente:"
   ]
  },
  {
   "cell_type": "code",
   "execution_count": 52,
   "metadata": {},
   "outputs": [
    {
     "data": {
      "text/plain": [
       "3.042037186742118"
      ]
     },
     "execution_count": 52,
     "metadata": {},
     "output_type": "execute_result"
    }
   ],
   "source": [
    "P = [0.1, 0.3]\n",
    "X = GeneralDiscreteDistribution(P, seed = 0)\n",
    "cuentas = [0, 0]\n",
    "for _ in range(10000):\n",
    "    cuentas[X.get_random_element()] += 1\n",
    "float(cuentas[1]/cuentas[0])"
   ]
  },
  {
   "cell_type": "code",
   "execution_count": null,
   "metadata": {},
   "outputs": [],
   "source": []
  },
  {
   "cell_type": "markdown",
   "metadata": {},
   "source": [
    "UTF-8 character examples:"
   ]
  },
  {
   "cell_type": "code",
   "execution_count": 29,
   "metadata": {},
   "outputs": [
    {
     "name": "stdout",
     "output_type": "stream",
     "text": [
      "∈ ,  𝒮\n"
     ]
    }
   ],
   "source": [
    "print(\"\\u2208\", \", \", \"\\U0001d4ae\")"
   ]
  },
  {
   "cell_type": "code",
   "execution_count": null,
   "metadata": {},
   "outputs": [],
   "source": []
  }
 ],
 "metadata": {
  "celltoolbar": "Initialization Cell",
  "kernelspec": {
   "display_name": "SageMath 9.0",
   "language": "sage",
   "name": "sagemath"
  },
  "language_info": {
   "codemirror_mode": {
    "name": "ipython",
    "version": 3
   },
   "file_extension": ".py",
   "mimetype": "text/x-python",
   "name": "python",
   "nbconvert_exporter": "python",
   "pygments_lexer": "ipython3",
   "version": "3.7.3"
  },
  "latex_envs": {
   "LaTeX_envs_menu_present": true,
   "autoclose": false,
   "autocomplete": true,
   "bibliofile": "biblio.bib",
   "cite_by": "apalike",
   "current_citInitial": 1,
   "eqLabelWithNumbers": true,
   "eqNumInitial": 1,
   "hotkeys": {
    "equation": "Ctrl-E",
    "itemize": "Ctrl-I"
   },
   "labels_anchors": false,
   "latex_user_defs": false,
   "report_style_numbering": false,
   "user_envs_cfg": false
  },
  "varInspector": {
   "cols": {
    "lenName": 16,
    "lenType": 16,
    "lenVar": 40
   },
   "kernels_config": {
    "python": {
     "delete_cmd_postfix": "",
     "delete_cmd_prefix": "del ",
     "library": "var_list.py",
     "varRefreshCmd": "print(var_dic_list())"
    },
    "r": {
     "delete_cmd_postfix": ") ",
     "delete_cmd_prefix": "rm(",
     "library": "var_list.r",
     "varRefreshCmd": "cat(var_dic_list()) "
    }
   },
   "types_to_exclude": [
    "module",
    "function",
    "builtin_function_or_method",
    "instance",
    "_Feature"
   ],
   "window_display": false
  }
 },
 "nbformat": 4,
 "nbformat_minor": 2
}
